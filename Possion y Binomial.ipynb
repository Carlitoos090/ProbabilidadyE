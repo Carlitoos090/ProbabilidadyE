{
  "nbformat": 4,
  "nbformat_minor": 0,
  "metadata": {
    "colab": {
      "provenance": []
    },
    "kernelspec": {
      "name": "python3",
      "display_name": "Python 3"
    },
    "language_info": {
      "name": "python"
    }
  },
  "cells": [
    {
      "cell_type": "markdown",
      "source": [
        "#Problema 1\n",
        "*En este problema se emplea la distribución de Poisson, porque no se está\n",
        "determinando la probabilidad de éxito o fracaso de un evento*"
      ],
      "metadata": {
        "id": "8VST_OQxi_7g"
      }
    },
    {
      "cell_type": "code",
      "source": [
        "from scipy.stats import poisson\n",
        "personas_ingresan=0\n",
        "media_ingresados=5\n",
        "dos_ingresados=2\n",
        "mas_10_ingresados=10\n",
        "\n",
        "prob_2=poisson.pmf(dos_ingresados, media_ingresados)\n",
        "prob_10=1-poisson.cdf(mas_10_ingresados, media_ingresados)\n",
        "\n",
        "print(\"Probabilidad de que sean 2 ingresos: \", prob_2)\n",
        "print(\"Probabilidad de que sean más de 10 ingresos: \", prob_10)\n",
        "\n",
        "if(prob_10 > 0.5):\n",
        "    mayor_10=\"Sí\"\n",
        "else:\n",
        "    mayor_10=\"No\"\n",
        "print(\"¿Es posible que sean mayor que 10? \", mayor_10)\n"
      ],
      "metadata": {
        "id": "5OtJMOfy4brB",
        "colab": {
          "base_uri": "https://localhost:8080/"
        },
        "outputId": "151106ab-6446-4070-c736-9bdb1ca684f4"
      },
      "execution_count": 3,
      "outputs": [
        {
          "output_type": "stream",
          "name": "stdout",
          "text": [
            "Probabilidad de que sean 2 ingresos:  0.08422433748856832\n",
            "Probabilidad de que sean más de 10 ingresos:  0.013695268598382881\n",
            "¿Es posible que sean mayor que 10?  No\n"
          ]
        }
      ]
    },
    {
      "cell_type": "markdown",
      "source": [
        "#Ejercicio 2\n",
        "*En este segundo problema se usa la distribución binomial debido a que se busca calcular si un evento es exitoso o no, en cierta cantidad de intentos.*"
      ],
      "metadata": {
        "id": "eNZqlJLsWRGq"
      }
    },
    {
      "cell_type": "code",
      "source": [
        "from scipy.stats import binom\n",
        "prob_no_satisface=0.001\n",
        "n_motores=1000\n",
        "prob_0=0\n",
        "prob_3=3\n",
        "prob_4=4\n",
        "\n",
        "prob_1=binom.pmf(prob_0, n_motores, prob_no_satisface)\n",
        "prob_2=binom.pmf(prob_3, n_motores, prob_no_satisface)\n",
        "prob_3=binom.pmf(prob_4, n_motores, prob_no_satisface)\n",
        "\n",
        "print(\"Probabilidad de que ningún motor sea defectuoso: \", prob_1)\n",
        "print(\"Probabilidad de que existan 3 motores defectuosos: \", prob_2)\n",
        "print(\"Probabilidad de que existan 4 motores defectuosos: \", prob_3)"
      ],
      "metadata": {
        "colab": {
          "base_uri": "https://localhost:8080/"
        },
        "id": "QyDtOktnWNvE",
        "outputId": "69c0d10b-636c-4461-ea4c-74cf608abc78"
      },
      "execution_count": 4,
      "outputs": [
        {
          "output_type": "stream",
          "name": "stdout",
          "text": [
            "Probabilidad de que ningún motor sea defectuoso:  0.3676954247709639\n",
            "Probabilidad de que existan 3 motores defectuosos:  0.061282509389840666\n",
            "Probabilidad de que existan 4 motores defectuosos:  0.015289955420838651\n"
          ]
        }
      ]
    }
  ]
}